{
  "cells": [
    {
      "cell_type": "markdown",
      "metadata": {
        "id": "view-in-github",
        "colab_type": "text"
      },
      "source": [
        "<a href=\"https://colab.research.google.com/github/ag-yash/kds-hack/blob/main/ReadyToPublish.ipynb\" target=\"_parent\"><img src=\"https://colab.research.google.com/assets/colab-badge.svg\" alt=\"Open In Colab\"/></a>"
      ]
    },
    {
      "cell_type": "code",
      "execution_count": null,
      "metadata": {
        "colab": {
          "base_uri": "https://localhost:8080/"
        },
        "id": "38F_dFITzVRo",
        "outputId": "d350983d-42c4-4377-fbf3-ac18c4b8276f"
      },
      "outputs": [
        {
          "output_type": "stream",
          "name": "stdout",
          "text": [
            "Requirement already satisfied: datasets in /usr/local/lib/python3.10/dist-packages (3.2.0)\n",
            "Requirement already satisfied: filelock in /usr/local/lib/python3.10/dist-packages (from datasets) (3.16.1)\n",
            "Requirement already satisfied: numpy>=1.17 in /usr/local/lib/python3.10/dist-packages (from datasets) (1.26.4)\n",
            "Requirement already satisfied: pyarrow>=15.0.0 in /usr/local/lib/python3.10/dist-packages (from datasets) (17.0.0)\n",
            "Requirement already satisfied: dill<0.3.9,>=0.3.0 in /usr/local/lib/python3.10/dist-packages (from datasets) (0.3.8)\n",
            "Requirement already satisfied: pandas in /usr/local/lib/python3.10/dist-packages (from datasets) (2.2.2)\n",
            "Requirement already satisfied: requests>=2.32.2 in /usr/local/lib/python3.10/dist-packages (from datasets) (2.32.3)\n",
            "Requirement already satisfied: tqdm>=4.66.3 in /usr/local/lib/python3.10/dist-packages (from datasets) (4.67.1)\n",
            "Requirement already satisfied: xxhash in /usr/local/lib/python3.10/dist-packages (from datasets) (3.5.0)\n",
            "Requirement already satisfied: multiprocess<0.70.17 in /usr/local/lib/python3.10/dist-packages (from datasets) (0.70.16)\n",
            "Requirement already satisfied: fsspec<=2024.9.0,>=2023.1.0 in /usr/local/lib/python3.10/dist-packages (from fsspec[http]<=2024.9.0,>=2023.1.0->datasets) (2024.9.0)\n",
            "Requirement already satisfied: aiohttp in /usr/local/lib/python3.10/dist-packages (from datasets) (3.11.11)\n",
            "Requirement already satisfied: huggingface-hub>=0.23.0 in /usr/local/lib/python3.10/dist-packages (from datasets) (0.27.1)\n",
            "Requirement already satisfied: packaging in /usr/local/lib/python3.10/dist-packages (from datasets) (24.2)\n",
            "Requirement already satisfied: pyyaml>=5.1 in /usr/local/lib/python3.10/dist-packages (from datasets) (6.0.2)\n",
            "Requirement already satisfied: aiohappyeyeballs>=2.3.0 in /usr/local/lib/python3.10/dist-packages (from aiohttp->datasets) (2.4.4)\n",
            "Requirement already satisfied: aiosignal>=1.1.2 in /usr/local/lib/python3.10/dist-packages (from aiohttp->datasets) (1.3.2)\n",
            "Requirement already satisfied: async-timeout<6.0,>=4.0 in /usr/local/lib/python3.10/dist-packages (from aiohttp->datasets) (4.0.3)\n",
            "Requirement already satisfied: attrs>=17.3.0 in /usr/local/lib/python3.10/dist-packages (from aiohttp->datasets) (24.3.0)\n",
            "Requirement already satisfied: frozenlist>=1.1.1 in /usr/local/lib/python3.10/dist-packages (from aiohttp->datasets) (1.5.0)\n",
            "Requirement already satisfied: multidict<7.0,>=4.5 in /usr/local/lib/python3.10/dist-packages (from aiohttp->datasets) (6.1.0)\n",
            "Requirement already satisfied: propcache>=0.2.0 in /usr/local/lib/python3.10/dist-packages (from aiohttp->datasets) (0.2.1)\n",
            "Requirement already satisfied: yarl<2.0,>=1.17.0 in /usr/local/lib/python3.10/dist-packages (from aiohttp->datasets) (1.18.3)\n",
            "Requirement already satisfied: typing-extensions>=3.7.4.3 in /usr/local/lib/python3.10/dist-packages (from huggingface-hub>=0.23.0->datasets) (4.12.2)\n",
            "Requirement already satisfied: charset-normalizer<4,>=2 in /usr/local/lib/python3.10/dist-packages (from requests>=2.32.2->datasets) (3.4.1)\n",
            "Requirement already satisfied: idna<4,>=2.5 in /usr/local/lib/python3.10/dist-packages (from requests>=2.32.2->datasets) (3.10)\n",
            "Requirement already satisfied: urllib3<3,>=1.21.1 in /usr/local/lib/python3.10/dist-packages (from requests>=2.32.2->datasets) (2.3.0)\n",
            "Requirement already satisfied: certifi>=2017.4.17 in /usr/local/lib/python3.10/dist-packages (from requests>=2.32.2->datasets) (2024.12.14)\n",
            "Requirement already satisfied: python-dateutil>=2.8.2 in /usr/local/lib/python3.10/dist-packages (from pandas->datasets) (2.8.2)\n",
            "Requirement already satisfied: pytz>=2020.1 in /usr/local/lib/python3.10/dist-packages (from pandas->datasets) (2024.2)\n",
            "Requirement already satisfied: tzdata>=2022.7 in /usr/local/lib/python3.10/dist-packages (from pandas->datasets) (2024.2)\n",
            "Requirement already satisfied: six>=1.5 in /usr/local/lib/python3.10/dist-packages (from python-dateutil>=2.8.2->pandas->datasets) (1.17.0)\n"
          ]
        }
      ],
      "source": [
        "pip install datasets"
      ]
    },
    {
      "cell_type": "code",
      "source": [
        "import pandas as pd\n",
        "import torch\n",
        "from sklearn.model_selection import train_test_split\n",
        "from transformers import DistilBertTokenizer, DistilBertForSequenceClassification\n",
        "from torch.utils.data import Dataset, DataLoader\n",
        "from sklearn.metrics import accuracy_score, f1_score"
      ],
      "metadata": {
        "id": "YRfIj8cR7MHo"
      },
      "execution_count": null,
      "outputs": []
    },
    {
      "cell_type": "code",
      "source": [
        "# Load the datasets from the provided paths\n",
        "train_df = pd.read_csv('/content/Training_Dataset_with_label.csv')\n",
        "test_df = pd.read_csv('/content/organized_content (3).csv')"
      ],
      "metadata": {
        "id": "MzF8W9kv7PON"
      },
      "execution_count": null,
      "outputs": []
    },
    {
      "cell_type": "code",
      "source": [
        "# Inspect the DataFrame to check for missing values\n",
        "print(f\"Missing values in train_df:\\n{train_df.isnull().sum()}\")\n",
        "print(f\"Missing values in test_df:\\n{test_df.isnull().sum()}\")"
      ],
      "metadata": {
        "id": "IoIUXAGn7PVo"
      },
      "execution_count": null,
      "outputs": []
    },
    {
      "cell_type": "code",
      "source": [
        "print(f\"Number of rows before processing missing labels: {train_df.shape[0]}\")"
      ],
      "metadata": {
        "id": "qV1X38ny7PZG"
      },
      "execution_count": null,
      "outputs": []
    },
    {
      "cell_type": "code",
      "source": [
        "train_df['text'] = (train_df['Abstract'] + \" \" + train_df['Introduction'] + \" \" +\n",
        "                    train_df['Methodology'] + \" \" + train_df['Results'] + \" \" +\n",
        "                    train_df['Conclusion']).fillna('')\n",
        "test_df['text'] = (test_df['Abstract'] + \" \" + test_df['Introduction'] + \" \" +\n",
        "                   test_df['Methodology'] + \" \" + test_df['Results'] + \" \" +\n",
        "                   test_df['Conclusion']).fillna('')"
      ],
      "metadata": {
        "id": "aoduY3gp7ZAm"
      },
      "execution_count": null,
      "outputs": []
    },
    {
      "cell_type": "code",
      "source": [
        "# Debugging step: Check the 'text' column in both train_df and test_df\n",
        "print(\"Checking the first few rows of 'train_df' to verify 'text' column creation:\")\n",
        "print(train_df[['text']].head())"
      ],
      "metadata": {
        "id": "eHxAVMe17bmh"
      },
      "execution_count": null,
      "outputs": []
    },
    {
      "cell_type": "code",
      "source": [
        "print(\"Checking the first few rows of 'test_df' to verify 'text' column creation:\")\n",
        "print(test_df[['text']].head())"
      ],
      "metadata": {
        "id": "rd3z6ala7bqC"
      },
      "execution_count": null,
      "outputs": []
    },
    {
      "cell_type": "code",
      "source": [
        "# Check if any missing values still exist in 'text' column\n",
        "print(f\"Missing values in train_df after text combination:\\n{train_df.isnull().sum()}\")\n",
        "print(f\"Missing values in test_df after text combination:\\n{test_df.isnull().sum()}\")"
      ],
      "metadata": {
        "id": "loMXDDq97cE9"
      },
      "execution_count": null,
      "outputs": []
    },
    {
      "cell_type": "code",
      "source": [
        "# Since 'Publishable' column is not in the test dataset, we only use the 'text' from train_df\n",
        "train_labels = train_df['Publishable'].tolist()  # Only train labels are needed for training\n",
        "\n",
        "# Initialize the tokenizer\n",
        "tokenizer = DistilBertTokenizer.from_pretrained('distilbert-base-uncased')"
      ],
      "metadata": {
        "id": "IU4mPke37jxB"
      },
      "execution_count": null,
      "outputs": []
    },
    {
      "cell_type": "code",
      "source": [
        "# Tokenize function\n",
        "def tokenize_function(texts):\n",
        "    return tokenizer(texts, padding=True, truncation=True, max_length=512)"
      ],
      "metadata": {
        "id": "LwDiQjQv7j2o"
      },
      "execution_count": null,
      "outputs": []
    },
    {
      "cell_type": "code",
      "source": [
        "# Custom Dataset class\n",
        "class ResearchPaperDataset(Dataset):\n",
        "    def __init__(self, texts, labels=None):\n",
        "        self.encodings = tokenize_function(texts)\n",
        "        self.labels = torch.tensor(labels, dtype=torch.long) if labels is not None else None\n",
        "\n",
        "    def __len__(self):\n",
        "        return len(self.encodings['input_ids'])\n",
        "\n",
        "    def __getitem__(self, idx):\n",
        "        item = {key: torch.tensor(val[idx]) for key, val in self.encodings.items()}\n",
        "        if self.labels is not None:\n",
        "            item['labels'] = self.labels[idx]\n",
        "        return item"
      ],
      "metadata": {
        "id": "z6Vf46zW7kMw"
      },
      "execution_count": null,
      "outputs": []
    },
    {
      "cell_type": "code",
      "source": [
        "train_texts, val_texts, train_labels, val_labels = train_test_split(\n",
        "    train_df['text'].tolist(),\n",
        "    train_labels,\n",
        "    test_size=0.1,\n",
        "    random_state=42\n",
        ")"
      ],
      "metadata": {
        "id": "F75zN06T7nhI"
      },
      "execution_count": null,
      "outputs": []
    },
    {
      "cell_type": "code",
      "source": [
        "train_dataset = ResearchPaperDataset(train_texts, train_labels)\n",
        "val_dataset = ResearchPaperDataset(val_texts, val_labels)\n",
        "test_dataset = ResearchPaperDataset(test_df['text'].tolist())  # No labels for testing"
      ],
      "metadata": {
        "id": "u3zzZL0j7nkl"
      },
      "execution_count": null,
      "outputs": []
    },
    {
      "cell_type": "code",
      "source": [
        "# Create DataLoader objects\n",
        "train_loader = DataLoader(train_dataset, batch_size=8, shuffle=True)\n",
        "val_loader = DataLoader(val_dataset, batch_size=8)\n",
        "test_loader = DataLoader(test_dataset, batch_size=8)"
      ],
      "metadata": {
        "id": "HUH1rt2f7yp-"
      },
      "execution_count": null,
      "outputs": []
    },
    {
      "cell_type": "code",
      "source": [
        "# Initialize the model\n",
        "model = DistilBertForSequenceClassification.from_pretrained('distilbert-base-uncased', num_labels=2)\n",
        "\n",
        "# Define optimizer and scheduler\n",
        "optimizer = torch.optim.AdamW(model.parameters(), lr=1e-5)"
      ],
      "metadata": {
        "id": "f9wCgkZA7ytl"
      },
      "execution_count": null,
      "outputs": []
    },
    {
      "cell_type": "code",
      "source": [
        "def train(model, train_loader, optimizer):\n",
        "    model.train()\n",
        "    total_loss = 0\n",
        "    for batch in train_loader:\n",
        "        optimizer.zero_grad()\n",
        "        input_ids = batch['input_ids']\n",
        "        attention_mask = batch['attention_mask']\n",
        "        labels = batch['labels']\n",
        "\n",
        "        outputs = model(input_ids, attention_mask=attention_mask, labels=labels)\n",
        "        loss = outputs.loss\n",
        "        loss.backward()\n",
        "        optimizer.step()\n",
        "\n",
        "        total_loss += loss.item()\n",
        "    return total_loss / len(train_loader)"
      ],
      "metadata": {
        "id": "RRbAUUFY7y8X"
      },
      "execution_count": null,
      "outputs": []
    },
    {
      "cell_type": "code",
      "source": [
        "def evaluate(model, val_loader):\n",
        "    model.eval()\n",
        "    preds = []\n",
        "    true_labels = []\n",
        "    with torch.no_grad():\n",
        "        for batch in val_loader:\n",
        "            input_ids = batch['input_ids']\n",
        "            attention_mask = batch['attention_mask']\n",
        "            labels = batch['labels']\n",
        "\n",
        "            outputs = model(input_ids, attention_mask=attention_mask)\n",
        "            logits = outputs.logits\n",
        "            predictions = torch.argmax(logits, dim=-1)\n",
        "\n",
        "            preds.extend(predictions.cpu().numpy())\n",
        "            true_labels.extend(labels.cpu().numpy())\n",
        "\n",
        "    accuracy = accuracy_score(true_labels, preds)\n",
        "    f1 = f1_score(true_labels, preds, average='weighted')  # Weighted for imbalanced classes\n",
        "    return accuracy, f1\n"
      ],
      "metadata": {
        "id": "k_pxQPjM76Li"
      },
      "execution_count": null,
      "outputs": []
    },
    {
      "cell_type": "code",
      "source": [
        "# Train and evaluate the model\n",
        "for epoch in range(20):\n",
        "    print(f\"Epoch {epoch + 1}\")\n",
        "    train_loss = train(model, train_loader, optimizer)\n",
        "    val_accuracy, val_f1 = evaluate(model, val_loader)\n",
        "    print(f\"Training loss: {train_loss:.4f}\")\n",
        "    print(f\"Validation accuracy: {val_accuracy:.4f}\")\n",
        "    print(f\"Validation F1 score: {val_f1:.4f}\")"
      ],
      "metadata": {
        "id": "QqN4HYhI76OQ"
      },
      "execution_count": null,
      "outputs": []
    },
    {
      "cell_type": "code",
      "source": [
        "# Predict function for test data\n",
        "def predict(model, test_loader):\n",
        "    model.eval()\n",
        "    predictions = []\n",
        "    with torch.no_grad():\n",
        "        for batch in test_loader:\n",
        "            input_ids = batch['input_ids']\n",
        "            attention_mask = batch['attention_mask']\n",
        "            outputs = model(input_ids, attention_mask=attention_mask)\n",
        "            logits = outputs.logits\n",
        "            predictions.extend(torch.argmax(logits, dim=-1).cpu().numpy())\n",
        "    return predictions"
      ],
      "metadata": {
        "id": "7_rnLYeZ76R0"
      },
      "execution_count": null,
      "outputs": []
    },
    {
      "cell_type": "code",
      "source": [
        "# Plot the training loss graph\n",
        "plt.figure(figsize=(10, 6))\n",
        "plt.plot(range(1, len(train_losses) + 1), train_losses, marker='o', color='blue', label='Training Loss')\n",
        "plt.xlabel('Epoch')\n",
        "plt.ylabel('Loss')\n",
        "plt.title('Training Loss Over Epochs')\n",
        "plt.legend()\n",
        "plt.grid()\n",
        "plt.show()"
      ],
      "metadata": {
        "id": "8DAJDHLv9CA-"
      },
      "execution_count": null,
      "outputs": []
    },
    {
      "cell_type": "code",
      "source": [
        "# Get predictions on the test data\n",
        "test_predictions = predict(model, test_loader)\n",
        "print(f\"Test Predictions: {test_predictions}\")"
      ],
      "metadata": {
        "colab": {
          "base_uri": "https://localhost:8080/",
          "height": 1000
        },
        "id": "NSMij_MrkaCA",
        "outputId": "8093b6eb-3ff2-4d1f-ed09-416bb3093108"
      },
      "execution_count": null,
      "outputs": [
        {
          "output_type": "stream",
          "name": "stderr",
          "text": [
            "/usr/local/lib/python3.10/dist-packages/huggingface_hub/utils/_auth.py:94: UserWarning: \n",
            "The secret `HF_TOKEN` does not exist in your Colab secrets.\n",
            "To authenticate with the Hugging Face Hub, create a token in your settings tab (https://huggingface.co/settings/tokens), set it as secret in your Google Colab and restart your session.\n",
            "You will be able to reuse this secret in all of your notebooks.\n",
            "Please note that authentication is recommended but still optional to access public models or datasets.\n",
            "  warnings.warn(\n",
            "Some weights of DistilBertForSequenceClassification were not initialized from the model checkpoint at distilbert-base-uncased and are newly initialized: ['classifier.bias', 'classifier.weight', 'pre_classifier.bias', 'pre_classifier.weight']\n",
            "You should probably TRAIN this model on a down-stream task to be able to use it for predictions and inference.\n"
          ]
        },
        {
          "output_type": "stream",
          "name": "stdout",
          "text": [
            "Epoch 1\n",
            "Training loss: 0.6276\n",
            "Validation accuracy: 1.0000\n",
            "Validation F1 score: 1.0000\n",
            "Epoch 2\n",
            "Training loss: 0.6167\n",
            "Validation accuracy: 1.0000\n",
            "Validation F1 score: 1.0000\n",
            "Epoch 3\n",
            "Training loss: 0.5932\n",
            "Validation accuracy: 1.0000\n",
            "Validation F1 score: 1.0000\n",
            "Epoch 4\n",
            "Training loss: 0.5691\n",
            "Validation accuracy: 1.0000\n",
            "Validation F1 score: 1.0000\n",
            "Epoch 5\n",
            "Training loss: 0.5517\n",
            "Validation accuracy: 1.0000\n",
            "Validation F1 score: 1.0000\n",
            "Epoch 6\n",
            "Training loss: 0.5138\n",
            "Validation accuracy: 1.0000\n",
            "Validation F1 score: 1.0000\n",
            "Epoch 7\n",
            "Training loss: 0.5295\n",
            "Validation accuracy: 1.0000\n",
            "Validation F1 score: 1.0000\n",
            "Epoch 8\n",
            "Training loss: 0.4928\n",
            "Validation accuracy: 1.0000\n",
            "Validation F1 score: 1.0000\n",
            "Epoch 9\n",
            "Training loss: 0.4667\n",
            "Validation accuracy: 1.0000\n",
            "Validation F1 score: 1.0000\n",
            "Epoch 10\n",
            "Training loss: 0.4342\n",
            "Validation accuracy: 1.0000\n",
            "Validation F1 score: 1.0000\n",
            "Epoch 11\n",
            "Training loss: 0.4020\n",
            "Validation accuracy: 1.0000\n",
            "Validation F1 score: 1.0000\n",
            "Epoch 12\n",
            "Training loss: 0.4131\n",
            "Validation accuracy: 1.0000\n",
            "Validation F1 score: 1.0000\n",
            "Epoch 13\n",
            "Training loss: 0.3780\n",
            "Validation accuracy: 1.0000\n",
            "Validation F1 score: 1.0000\n",
            "Epoch 14\n",
            "Training loss: 0.3594\n",
            "Validation accuracy: 1.0000\n",
            "Validation F1 score: 1.0000\n",
            "Epoch 15\n",
            "Training loss: 0.3601\n",
            "Validation accuracy: 1.0000\n",
            "Validation F1 score: 1.0000\n",
            "Epoch 16\n",
            "Training loss: 0.3510\n",
            "Validation accuracy: 1.0000\n",
            "Validation F1 score: 1.0000\n",
            "Epoch 17\n",
            "Training loss: 0.3104\n",
            "Validation accuracy: 1.0000\n",
            "Validation F1 score: 1.0000\n",
            "Epoch 18\n",
            "Training loss: 0.2878\n",
            "Validation accuracy: 1.0000\n",
            "Validation F1 score: 1.0000\n",
            "Epoch 19\n",
            "Training loss: 0.2692\n",
            "Validation accuracy: 1.0000\n",
            "Validation F1 score: 1.0000\n",
            "Epoch 20\n",
            "Training loss: 0.2278\n",
            "Validation accuracy: 1.0000\n",
            "Validation F1 score: 1.0000\n"
          ]
        },
        {
          "output_type": "display_data",
          "data": {
            "text/plain": [
              "<Figure size 1000x600 with 1 Axes>"
            ],
            "image/png": "[encoded data removed]"
          },
          "metadata": {}
        },
        {
          "output_type": "stream",
          "name": "stdout",
          "text": [
            "Test Predictions: [1, 1, 1, 1, 0, 1, 1, 1, 0, 1, 1, 1, 0, 1, 0, 0, 1, 0, 0, 0, 1, 1, 1, 1, 1, 1, 0, 0, 1, 1, 0, 0, 1, 1, 1, 0, 0, 1, 1, 0, 1, 1, 1, 1, 1, 1, 1, 1, 1, 1, 0, 1, 1, 0, 0, 1, 1, 0, 1, 1, 0, 0, 0, 0, 1, 1, 0, 1, 1, 0, 1, 1, 0, 1, 0, 0, 1, 1, 0, 1, 0, 0, 1, 0, 0, 1, 1, 1, 1, 0, 0, 0, 0, 1, 1, 0, 0, 0, 0, 0, 0, 0, 0, 1, 1, 0, 1, 0, 1, 1, 0, 0, 0, 0, 1, 0, 0, 0, 1, 1, 1, 0, 0, 0, 0, 0, 0, 1, 0, 0, 0, 0, 0, 0, 1]\n"
          ]
        }
      ]
    },
    {
      "cell_type": "code",
      "source": [
        "print(train_df.head(5))"
      ],
      "metadata": {
        "colab": {
          "base_uri": "https://localhost:8080/"
        },
        "id": "2eWttwgJwNPZ",
        "outputId": "3fdfd7fc-0956-4dbb-ddf4-e7ee4e9908a5"
      },
      "execution_count": null,
      "outputs": [
        {
          "output_type": "stream",
          "name": "stdout",
          "text": [
            "   Filename                                           Abstract  \\\n",
            "0  R007.pdf  The growing focus on leveraging computer visio...   \n",
            "1  R014.pdf  This research examines a specific category of ...   \n",
            "2  R002.pdf  The perpetual oscillations of quantum fluctuat...   \n",
            "3  R009.pdf  This study demonstrates that incorporating the...   \n",
            "4  R010.pdf  Parkinson’s disease (PD) is a progressive neur...   \n",
            "\n",
            "                                        Introduction  \\\n",
            "0  The convergence of computer vision technologie...   \n",
            "1  The recent advancements in machine learning mo...   \n",
            "2  The deployment of novel spectroscopic methodol...   \n",
            "3  The concept of the \"wisdom of the crowd\" posit...   \n",
            "4  Parkinson’s disease (PD) is a debilitating neu...   \n",
            "\n",
            "                                         Methodology  \\\n",
            "0  The team’s research employs multi-view reconst...   \n",
            "1                                                NaN   \n",
            "2  The intricacies of photosynthetic methodologie...   \n",
            "3                                                NaN   \n",
            "4                                                NaN   \n",
            "\n",
            "                                             Results  \\\n",
            "0  4.2.1 Implementation settings\\nExperiments wer...   \n",
            "1                                                NaN   \n",
            "2  The phenomenon of fluffy kitten dynamics was o...   \n",
            "3  Experiments are conducted to address the chall...   \n",
            "4  We compare our proposed network, MDCSA1,4,7 (M...   \n",
            "\n",
            "                                          Conclusion  Publishable  \\\n",
            "0  This report examines and compiles the techniqu...            1   \n",
            "1  Many intriguing questions persist in the domai...            1   \n",
            "2  In conclusion, the ramifications of photosynth...            0   \n",
            "3  s\\nForecasting involves predicting future even...            1   \n",
            "4  We have presented the MDCSA model, a new deep ...            1   \n",
            "\n",
            "                                                text  \n",
            "0  The growing focus on leveraging computer visio...  \n",
            "1                                                     \n",
            "2  The perpetual oscillations of quantum fluctuat...  \n",
            "3                                                     \n",
            "4                                                     \n"
          ]
        }
      ]
    },
    {
      "cell_type": "code",
      "source": [
        "print(test_df.head(5))"
      ],
      "metadata": {
        "colab": {
          "base_uri": "https://localhost:8080/"
        },
        "id": "7WR2y3KowYg3",
        "outputId": "8dbf3588-59a5-4024-ce7d-62feb0c1ec41"
      },
      "execution_count": null,
      "outputs": [
        {
          "output_type": "stream",
          "name": "stdout",
          "text": [
            "   Filename                                           Abstract  \\\n",
            "0  P089.pdf  This research investigates the conditions unde...   \n",
            "1  P014.pdf  This document outlines our contribution to the...   \n",
            "2  P054.pdf  The growing focus on computer vision for appli...   \n",
            "3  P057.pdf  We introduce a novel approach to human-machine...   \n",
            "4  P112.pdf  The rapid increase of genomic sequence data re...   \n",
            "\n",
            "                                        Introduction  \\\n",
            "0  In contemporary machine learning practice, the...   \n",
            "1  The field of multimodal speech perception has ...   \n",
            "2  The merging of computer vision with the culina...   \n",
            "3  The ongoing technological advancements are res...   \n",
            "4  Genomic sequence data is growing at an unprece...   \n",
            "\n",
            "                                         Methodology  \\\n",
            "0                                                NaN   \n",
            "1  The active speaker detection system is compose...   \n",
            "2  The team’s research employs multi-view reconst...   \n",
            "3  The engineered system includes a camera and a ...   \n",
            "4  3.1 Metagenomic Graph\\nThe De Bruijn Graph, wh...   \n",
            "\n",
            "                                             Results  \\\n",
            "0                                                NaN   \n",
            "1  on the validation set for the various back-end...   \n",
            "2  4.2.1 Implementation settings\\nThe experiments...   \n",
            "3                                                NaN   \n",
            "4  and Analysis\\nIn all our experiments, the memo...   \n",
            "\n",
            "                                          Conclusion  \\\n",
            "0                                                NaN   \n",
            "1                                                NaN   \n",
            "2  In this report, we provide a summary and analy...   \n",
            "3                                                NaN   \n",
            "4  In our study, we introduced a novel k-mer embe...   \n",
            "\n",
            "                                                text  \n",
            "0                                                     \n",
            "1                                                     \n",
            "2  The growing focus on computer vision for appli...  \n",
            "3                                                     \n",
            "4  The rapid increase of genomic sequence data re...  \n"
          ]
        }
      ]
    },
    {
      "cell_type": "code",
      "source": [
        "# Predict labels for the test dataset\n",
        "test_predictions = predict(model, test_loader)\n",
        "\n",
        "# Create a DataFrame for the results\n",
        "results_df = pd.DataFrame({\n",
        "    'Text': test_texts,  # The original text\n",
        "    'Predicted Label': test_predictions  # The predicted labels\n",
        "})\n",
        "\n",
        "# Save the results to a CSV file\n",
        "results_df.to_csv('/content/test_predictions.csv', index=False)\n",
        "print(\"Predictions saved to test_predictions.csv\")"
      ],
      "metadata": {
        "id": "CIfv645aDb6i"
      },
      "execution_count": null,
      "outputs": []
    }
  ],
  "metadata": {
    "colab": {
      "provenance": [],
      "include_colab_link": true
    },
    "kernelspec": {
      "display_name": "Python 3",
      "name": "python3"
    },
    "language_info": {
      "name": "python"
    }
  },
  "nbformat": 4,
  "nbformat_minor": 0
}