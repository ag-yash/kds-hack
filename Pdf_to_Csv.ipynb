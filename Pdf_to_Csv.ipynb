{
  "nbformat": 4,
  "nbformat_minor": 0,
  "metadata": {
    "colab": {
      "provenance": [],
      "include_colab_link": true
    },
    "kernelspec": {
      "name": "python3",
      "display_name": "Python 3"
    },
    "language_info": {
      "name": "python"
    }
  },
  "cells": [
    {
      "cell_type": "markdown",
      "metadata": {
        "id": "view-in-github",
        "colab_type": "text"
      },
      "source": [
        "<a href=\"https://colab.research.google.com/github/ag-yash/kds-hack/blob/main/Pdf_to_Csv.ipynb\" target=\"_parent\"><img src=\"https://colab.research.google.com/assets/colab-badge.svg\" alt=\"Open In Colab\"/></a>"
      ]
    },
    {
      "cell_type": "code",
      "source": [
        "!pip install PyPDF2"
      ],
      "metadata": {
        "colab": {
          "base_uri": "https://localhost:8080/"
        },
        "id": "jCfI9bLJEvEM",
        "outputId": "eeed5967-9c22-42d1-e9f5-1081ca41a553"
      },
      "execution_count": null,
      "outputs": [
        {
          "output_type": "stream",
          "name": "stdout",
          "text": [
            "Collecting PyPDF2\n",
            "  Downloading pypdf2-3.0.1-py3-none-any.whl.metadata (6.8 kB)\n",
            "Downloading pypdf2-3.0.1-py3-none-any.whl (232 kB)\n",
            "\u001b[2K   \u001b[90m━━━━━━━━━━━━━━━━━━━━━━━━━━━━━━━━━━━━━━━━\u001b[0m \u001b[32m232.6/232.6 kB\u001b[0m \u001b[31m3.5 MB/s\u001b[0m eta \u001b[36m0:00:00\u001b[0m\n",
            "\u001b[?25hInstalling collected packages: PyPDF2\n",
            "Successfully installed PyPDF2-3.0.1\n"
          ]
        }
      ]
    },
    {
      "cell_type": "code",
      "source": [
        "from google.colab import drive\n",
        "drive.mount('/content/drive')\n"
      ],
      "metadata": {
        "colab": {
          "base_uri": "https://localhost:8080/"
        },
        "id": "SntM_6NaFCbY",
        "outputId": "10f29036-56ba-4cc4-eb48-f07e009280b8"
      },
      "execution_count": null,
      "outputs": [
        {
          "output_type": "stream",
          "name": "stdout",
          "text": [
            "Mounted at /content/drive\n"
          ]
        }
      ]
    },
    {
      "cell_type": "code",
      "source": [
        "import os\n",
        "import csv\n",
        "import PyPDF2"
      ],
      "metadata": {
        "id": "U_CBkPWBxthN"
      },
      "execution_count": null,
      "outputs": []
    },
    {
      "cell_type": "code",
      "source": [
        "# Define the folder path\n",
        "local_folder = '/content/drive/MyDrive/KDSH_2025_Dataset/Papers'"
      ],
      "metadata": {
        "id": "8vTKcZMpxtkk"
      },
      "execution_count": null,
      "outputs": []
    },
    {
      "cell_type": "code",
      "source": [
        "def extract_content_from_pdf(pdf_path):\n",
        "    \"\"\"Extract content from a PDF and organize by headings.\"\"\"\n",
        "    headings = [\"Abstract\", \"Introduction\", \"Methodology\", \"Results\", \"Conclusion\"]\n",
        "    content = {heading: \"\" for heading in headings}\n",
        "\n",
        "    with open(pdf_path, 'rb') as pdf_file:\n",
        "        reader = PyPDF2.PdfReader(pdf_file)\n",
        "        full_text = \"\"\n",
        "        for page in reader.pages:\n",
        "            full_text += page.extract_text()\n",
        "\n",
        "        # Extract content under each heading\n",
        "        for heading in headings:\n",
        "            start = full_text.find(heading)\n",
        "            if start != -1:\n",
        "                # Find the next heading or the end of the text\n",
        "                end = min([full_text.find(h, start + 1) for h in headings if full_text.find(h, start + 1) > start], default=len(full_text))\n",
        "                content[heading] = full_text[start + len(heading):end].strip()  # Get content under the heading\n",
        "    return content"
      ],
      "metadata": {
        "id": "ngFeM_C1xtwQ"
      },
      "execution_count": null,
      "outputs": []
    },
    {
      "cell_type": "code",
      "source": [
        "def save_extracted_content(folder_path, output_file):\n",
        "    \"\"\"Save extracted content to a CSV file.\"\"\"\n",
        "    with open(output_file, 'w', newline='', encoding='utf-8') as csvfile:\n",
        "        writer = csv.writer(csvfile, escapechar='\\\\', quoting=csv.QUOTE_ALL)\n",
        "        writer.writerow([\"Filename\", \"Abstract\", \"Introduction\", \"Methodology\", \"Results\", \"Conclusion\"])\n",
        "\n",
        "        for filename in os.listdir(folder_path):\n",
        "            if filename.endswith('.pdf'):\n",
        "                pdf_path = os.path.join(folder_path, filename)\n",
        "                content = extract_content_from_pdf(pdf_path)\n",
        "                # Write filename and extracted content to CSV\n",
        "                writer.writerow([filename] + [content[h] for h in [\"Abstract\", \"Introduction\", \"Methodology\", \"Results\", \"Conclusion\"]])"
      ],
      "metadata": {
        "id": "rNvicdw7yAxC"
      },
      "execution_count": null,
      "outputs": []
    },
    {
      "cell_type": "markdown",
      "source": [],
      "metadata": {
        "id": "s48B4NDjGFFr"
      }
    },
    {
      "cell_type": "code",
      "source": [
        "output_csv = '/content/organized_content.csv'\n",
        "save_extracted_content(local_folder, output_csv)\n",
        "print(f\"Organized content saved to {output_csv}.\")"
      ],
      "metadata": {
        "colab": {
          "base_uri": "https://localhost:8080/"
        },
        "id": "4AezPFwrGSCB",
        "outputId": "d12a4407-d90c-423b-d197-d4ed3f0b42d0"
      },
      "execution_count": null,
      "outputs": [
        {
          "output_type": "stream",
          "name": "stdout",
          "text": [
            "Drive already mounted at /content/drive; to attempt to forcibly remount, call drive.mount(\"/content/drive\", force_remount=True).\n",
            "Organized content saved to /content/organized_content.csv.\n"
          ]
        }
      ]
    },
    {
      "cell_type": "code",
      "source": [
        "local_folder = '/content/drive/MyDrive/Training_folder'\n",
        "output_csv = '/content/Training_organized_content.csv'\n",
        "save_extracted_content(local_folder, output_csv)\n",
        "print(f\"Organized content saved to {output_csv}.\")\n"
      ],
      "metadata": {
        "colab": {
          "base_uri": "https://localhost:8080/"
        },
        "id": "tGz3V7XpLOYS",
        "outputId": "89cbc55a-8f8f-4ac8-e444-95c039f93ba8"
      },
      "execution_count": null,
      "outputs": [
        {
          "output_type": "stream",
          "name": "stdout",
          "text": [
            "Drive already mounted at /content/drive; to attempt to forcibly remount, call drive.mount(\"/content/drive\", force_remount=True).\n",
            "Organized content saved to /content/Training_organized_content.csv.\n"
          ]
        }
      ]
    },
    {
      "cell_type": "code",
      "source": [],
      "metadata": {
        "id": "CuiI3nsKG-PZ"
      },
      "execution_count": null,
      "outputs": []
    }
  ]
}